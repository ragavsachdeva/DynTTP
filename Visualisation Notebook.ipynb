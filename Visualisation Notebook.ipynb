{
 "cells": [
  {
   "cell_type": "code",
   "execution_count": 45,
   "metadata": {},
   "outputs": [],
   "source": [
    "import re\n",
    "import ast\n",
    "import numpy as np\n",
    "import matplotlib.pyplot as plt\n",
    "import math\n",
    "from matplotlib.lines import Line2D\n",
    "import bisect as b\n",
    "from scipy.stats import mannwhitneyu\n",
    "from sklearn.metrics import auc\n",
    "import itertools\n",
    "import seaborn as sns\n",
    "import pandas as pd\n",
    "from tqdm import tnrange, notebook\n",
    "import os\n",
    "import pdb"
   ]
  },
  {
   "cell_type": "code",
   "execution_count": 46,
   "metadata": {},
   "outputs": [],
   "source": [
    "def readData(filepath):\n",
    "    with open(filepath, 'r') as file:\n",
    "        data = file.read()\n",
    "    data = np.array(ast.literal_eval(data))\n",
    "    initial = data[0]\n",
    "    return data[1]"
   ]
  },
  {
   "cell_type": "code",
   "execution_count": 47,
   "metadata": {},
   "outputs": [],
   "source": [
    "def verticalCutAt(data, e):\n",
    "    res = np.zeros([len(data)])\n",
    "    for j,run in enumerate(data):\n",
    "        run = np.array(run)\n",
    "        index = b.bisect(run[:,0], e) - 1\n",
    "        res[j] = run[index][1] if index >= 0 else float('-inf')\n",
    "    return res"
   ]
  },
  {
   "cell_type": "code",
   "execution_count": 48,
   "metadata": {},
   "outputs": [],
   "source": [
    "def getUniqueEvals(data):\n",
    "    allEvals = []\n",
    "    for arr in data:\n",
    "        for e, _ in arr:\n",
    "            allEvals.append(e)\n",
    "    uniqueEvals = set(allEvals)\n",
    "    return uniqueEvals"
   ]
  },
  {
   "cell_type": "code",
   "execution_count": 49,
   "metadata": {},
   "outputs": [],
   "source": [
    "def offsetPhases(data):\n",
    "    for run in data:\n",
    "        for phase in run:\n",
    "            delta = phase[0][0]\n",
    "            for e, dtp in enumerate(phase):\n",
    "                phase[e][0] -= delta\n",
    "    return data"
   ]
  },
  {
   "cell_type": "code",
   "execution_count": 50,
   "metadata": {},
   "outputs": [],
   "source": [
    "def cleanPhases(data):\n",
    "    for run in data:\n",
    "        for phase in run:\n",
    "            last = len(phase)-1\n",
    "            while last > 0:\n",
    "                if phase[last][1] == phase[last-1][1]:\n",
    "                    phase.pop()\n",
    "                    last -= 1\n",
    "                else:\n",
    "                    break\n",
    "    return data"
   ]
  },
  {
   "cell_type": "code",
   "execution_count": 51,
   "metadata": {},
   "outputs": [],
   "source": [
    "def undoOffset(data):\n",
    "    lastEval = list(range(10))\n",
    "    for phase in range(10):\n",
    "        maximum = float('-inf')\n",
    "        for a, alg in enumerate(data):\n",
    "            maximum = max(maximum, data[a][phase][-1][0])\n",
    "        lastEval[phase] = maximum\n",
    "    lastEval = [max(lastEval)] * 10\n",
    "    lastEval = [sum(x) for x in zip(lastEval, list(range(1,11)))]\n",
    "    lastEval.insert(0,0)\n",
    "    delta = np.cumsum(lastEval)\n",
    "    for run in data:\n",
    "        for p, phase in enumerate(run):\n",
    "            for e, _ in enumerate(phase):\n",
    "                phase[e][0] += delta[p]\n",
    "            if phase[-1][0] != delta[p+1]-1:\n",
    "                phase.append([delta[p+1]-1, phase[-1][1]])\n",
    "    return data"
   ]
  },
  {
   "cell_type": "code",
   "execution_count": 52,
   "metadata": {},
   "outputs": [],
   "source": [
    "def averagePhase(data):\n",
    "    uniqueEvals = getUniqueEvals(data)\n",
    "    avgPhase = []\n",
    "    for ue in sorted(uniqueEvals):\n",
    "        obj = verticalCutAt(data, ue).mean()\n",
    "        avgPhase.append([ue, obj])\n",
    "    return avgPhase"
   ]
  },
  {
   "cell_type": "code",
   "execution_count": 53,
   "metadata": {},
   "outputs": [],
   "source": [
    "def averageRunWithPhases(data):\n",
    "    data = np.array(data)\n",
    "    avgRun = []\n",
    "    for phase in range(10):\n",
    "        avgRun.append(averagePhase(data[:,phase]))\n",
    "    return avgRun"
   ]
  },
  {
   "cell_type": "code",
   "execution_count": 54,
   "metadata": {},
   "outputs": [],
   "source": [
    "def normalisePhases(data):\n",
    "    res = np.copy(data)\n",
    "    for phase in range(10):\n",
    "        smallest = float(\"inf\")\n",
    "        largest = float(\"-inf\")\n",
    "        for a, alg in enumerate(data):\n",
    "            smallest = min(smallest, np.array(alg[phase])[:,1].min())\n",
    "            largest = max(largest, np.array(alg[phase])[:,1].max())\n",
    "        for a, alg in enumerate(data):\n",
    "            for i, dtp in enumerate(alg[phase]):\n",
    "                res[a][phase][i] = [dtp[0], (dtp[1]-smallest)/(largest-smallest)]\n",
    "    return res"
   ]
  },
  {
   "cell_type": "code",
   "execution_count": 55,
   "metadata": {},
   "outputs": [],
   "source": [
    "def removePhases(data):\n",
    "    res = []\n",
    "    for i, alg in enumerate(data):\n",
    "        res.append([])\n",
    "        for phase in alg:\n",
    "            for dtp in phase:\n",
    "                res[i].append(dtp)\n",
    "    return res"
   ]
  },
  {
   "cell_type": "code",
   "execution_count": 56,
   "metadata": {},
   "outputs": [],
   "source": [
    "def performance(data):\n",
    "    res = []\n",
    "    for i, alg in enumerate(data):\n",
    "        res.append([])\n",
    "        for phase in alg:\n",
    "            if len(phase) == 1:\n",
    "                res[i].append([phase[0][1], phase[0][1]])\n",
    "            else:\n",
    "                ph = np.array(phase)\n",
    "                res[i].append([auc(ph[:,0], ph[:,1])/ph[:,0][-1], ph[:,1][-1]])\n",
    "    return res"
   ]
  },
  {
   "cell_type": "code",
   "execution_count": 67,
   "metadata": {},
   "outputs": [],
   "source": [
    "class BlackMagic():\n",
    "    def __init__(self, data):\n",
    "         self.data = data\n",
    "\n",
    "    def plot(self,log=False,xl=None,title=None, col=0):\n",
    "#         plt.plot([self.data[0][0][0]], [self.data[0][0][1]], marker='o', markersize=8, color=\"green\")\n",
    "        for j,run in enumerate(self.data):\n",
    "#             plt.plot([run[1][0]], [run[1][1]], marker='x', markersize=8, color=\"red\")\n",
    "            x = []\n",
    "            y = []\n",
    "            for dtp in run:\n",
    "                if log:\n",
    "                    x.append(math.log(dtp[0],10))\n",
    "                else:\n",
    "                    x.append(dtp[0])\n",
    "                y.append(dtp[1])\n",
    "            plt.step(x, y, color=colours[j],where='post')\n",
    "        if xl is not None:\n",
    "            plt.xlim((-50, xl))\n",
    "#         if title is not None:\n",
    "#             plt.title(title)\n",
    "        plt.gca().axes.get_xaxis().set_visible(False)\n",
    "        plt.gca().get_yaxis().set_visible(False)\n",
    "        custom_lines = []\n",
    "        for x in range(len(self.data)):\n",
    "            custom_lines.append(Line2D([0], [0], color=colours[x], lw=4))\n",
    "        #plt.gca().legend(custom_lines, labels)\n",
    "#         plt.show()\n",
    "        plt.savefig('stepplot_multiMutations/'+title)\n",
    "    \n",
    "    def heatmap(self,title=''):\n",
    "        maxEpoch = []\n",
    "        for run in self.data:\n",
    "            maxEpoch.append(run[-1][0])\n",
    "        maxEpoch = max(maxEpoch)\n",
    "        X = [x for x in list(range(1, int(maxEpoch+1), 10))]\n",
    "        Y = list(range(1, len(self.data)+1))\n",
    "        data = np.zeros((len(X), len(self.data)))\n",
    "        for i, count in enumerate(X):\n",
    "            data[i] = verticalCutAt(self.data, count)\n",
    "        df = pd.DataFrame(np.transpose(data), index=Y, columns=X)\n",
    "        sns.heatmap(df, cbar=False)\n",
    "        plt.gca().axes.get_xaxis().set_visible(False)\n",
    "        plt.gca().get_yaxis().set_visible(False)\n",
    "#         plt.show()\n",
    "        plt.savefig('heatmaps_multiMutations/'+title)\n",
    "\n",
    "colours = ['green','blue','black','red']\n",
    "# labels = ['Linkern','Insertion','CLK+Insertion']\n",
    "labels = [\"BF\", \"REA\", \"PI\", \"PI+BF\"]"
   ]
  },
  {
   "cell_type": "markdown",
   "metadata": {},
   "source": [
    "## Visualisations"
   ]
  },
  {
   "cell_type": "code",
   "execution_count": 2,
   "metadata": {},
   "outputs": [
    {
     "ename": "SyntaxError",
     "evalue": "invalid syntax (<ipython-input-2-ba3e74729f1e>, line 14)",
     "output_type": "error",
     "traceback": [
      "\u001b[0;36m  File \u001b[0;32m\"<ipython-input-2-ba3e74729f1e>\"\u001b[0;36m, line \u001b[0;32m14\u001b[0m\n\u001b[0;31m    data = readData(\"outputs/instances_\"+i+\".ttp_\"+t+_\"+o+\"_\"+k+\".txt\")\u001b[0m\n\u001b[0m                                                          ^\u001b[0m\n\u001b[0;31mSyntaxError\u001b[0m\u001b[0;31m:\u001b[0m invalid syntax\n"
     ]
    }
   ],
   "source": [
    "typ = [\"items\", \"cities\"]\n",
    "instances = [\"a280_n279_bounded-strongly-corr_01\", \"a280_n1395_uncorr-similar-weights_05\", \"a280_n2790_uncorr_10\", \"fnl4461_n4460_bounded-strongly-corr_01\", \"fnl4461_n22300_uncorr-similar-weights_05\", \"fnl4461_n44600_uncorr_10\", \"pla33810_n33809_bounded-strongly-corr_01\", \"pla33810_n169045_uncorr-similar-weights_05\", \"pla33810_n338090_uncorr_10\"]\n",
    "dropPercent = [\"0.010000\", \"0.030000\", \"0.100000\", \"0.300000\"]\n",
    "\n",
    "fig= plt.figure(figsize=(10,10))\n",
    "\n",
    "for t in typ:\n",
    "    if t == \"items\":\n",
    "        optimisation = [\"viaBitflip\", \"viaStructuralDiversity\", \"viaPackIterative\", \"viaPackIterativeAndBitflip\"]\n",
    "    else:\n",
    "        optimisation = [\"viaJump\", \"viaCLK\", \"viaCLKAndJump\"]\n",
    "    for i in notebook.tqdm(instances):\n",
    "        for k in dropPercent:\n",
    "            alldata = []\n",
    "            for col, o in enumerate(optimisation):\n",
    "                data = readData(\"output/instances_\"+i+\".ttp_\"+t+\"_\"+o+\"_\"+k+\".txt\")\n",
    "                #data = offsetPhases(data)\n",
    "                data = cleanPhases(data)\n",
    "                data = averageRunWithPhases(data)\n",
    "                alldata.append(data)\n",
    "            alldata = normalisePhases(alldata)\n",
    "            alldata = undoOffset(alldata)\n",
    "            alldata = removePhases(alldata)\n",
    "            bm = BlackMagic(alldata)\n",
    "            plt.figure()\n",
    "            bm.plot(title=(i+\"_\"+t+\"_k=\"+str(int(float(k)*100))), col=col)\n",
    "            plt.close()\n",
    "            plt.figure()\n",
    "            bm.heatmap(title=(i+\"_\"+t+\"_k=\"+str(int(float(k)*100))))\n",
    "            plt.close()"
   ]
  },
  {
   "cell_type": "code",
   "execution_count": null,
   "metadata": {},
   "outputs": [],
   "source": []
  }
 ],
 "metadata": {
  "kernelspec": {
   "display_name": "Python 3",
   "language": "python",
   "name": "python3"
  },
  "language_info": {
   "codemirror_mode": {
    "name": "ipython",
    "version": 3
   },
   "file_extension": ".py",
   "mimetype": "text/x-python",
   "name": "python",
   "nbconvert_exporter": "python",
   "pygments_lexer": "ipython3",
   "version": "3.6.9"
  }
 },
 "nbformat": 4,
 "nbformat_minor": 2
}
